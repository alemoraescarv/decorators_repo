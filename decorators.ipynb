{
 "cells": [
  {
   "cell_type": "markdown",
   "metadata": {},
   "source": [
    "Classmehotd decorator: it does not depend of an instance of the class, only the class. It can be executed before the __init__ of the class - always takes a class\n",
    "\n",
    "Staticmethod:  it is not bound to an instance nor class - always independent\n",
    "\n",
    "Decorators - always takes a function , adds functionality to another function\n",
    "\n",
    "Property decorator - used to create setter, getter and deleter -> used in encapsulation\n",
    "\n",
    "Dataclass  decorator - Dataclass makes it easy to create classes by adding a few dunder methods.- needs to be imprted from dataclasses import dataclass\n",
    "\n",
    "\n"
   ]
  },
  {
   "cell_type": "code",
   "execution_count": 11,
   "metadata": {},
   "outputs": [
    {
     "name": "stdout",
     "output_type": "stream",
     "text": [
      "It took 9.5367431640625e-07 seconds\n"
     ]
    },
    {
     "data": {
      "text/plain": [
       "4"
      ]
     },
     "execution_count": 11,
     "metadata": {},
     "output_type": "execute_result"
    }
   ],
   "source": [
    "#decorator\n",
    "import time\n",
    "def timer(func):\n",
    "    def wrapper(*args, **kwargs):\n",
    "        time_0 = time.time()\n",
    "        output = func(*args, **kwargs)\n",
    "        time_1 = time.time()\n",
    "        elapsed = time_1-time_0\n",
    "        print(\"It took {} seconds\".format(elapsed))\n",
    "        return output\n",
    "    return wrapper\n",
    "\n",
    "@timer\n",
    "def sum_(*nums):\n",
    "    result=0\n",
    "    for number in nums:\n",
    "        result += number\n",
    "    return result\n",
    "\n",
    "sum_(2,2)\n",
    "\n"
   ]
  },
  {
   "cell_type": "code",
   "execution_count": 19,
   "metadata": {},
   "outputs": [
    {
     "name": "stdout",
     "output_type": "stream",
     "text": [
      "Let's call the class method\n",
      "I will only call the init method now\n",
      "Good date\n",
      "\n",
      "\n",
      "\n",
      "Below will be testing staticmethod \n",
      "\n",
      "\n",
      "Good date\n"
     ]
    },
    {
     "ename": "ValueError",
     "evalue": "This date is invalid",
     "output_type": "error",
     "traceback": [
      "\u001b[0;31m---------------------------------------------------------------------------\u001b[0m",
      "\u001b[0;31mValueError\u001b[0m                                Traceback (most recent call last)",
      "Cell \u001b[0;32mIn [19], line 35\u001b[0m\n\u001b[1;32m     33\u001b[0m \u001b[39m#statimethod\u001b[39;00m\n\u001b[1;32m     34\u001b[0m good_date \u001b[39m=\u001b[39m date(\u001b[39m2\u001b[39m,\u001b[39m4\u001b[39m,\u001b[39m2022\u001b[39m)\n\u001b[0;32m---> 35\u001b[0m bad_date \u001b[39m=\u001b[39m date(\u001b[39m2\u001b[39m,\u001b[39m23\u001b[39m,\u001b[39m3333\u001b[39m)\n",
      "Cell \u001b[0;32mIn [19], line 12\u001b[0m, in \u001b[0;36mdate.__init__\u001b[0;34m(self, day, month, year)\u001b[0m\n\u001b[1;32m     10\u001b[0m     \u001b[39mprint\u001b[39m(\u001b[39m\"\u001b[39m\u001b[39mGood date\u001b[39m\u001b[39m\"\u001b[39m)\n\u001b[1;32m     11\u001b[0m \u001b[39melse\u001b[39;00m: \n\u001b[0;32m---> 12\u001b[0m     \u001b[39mraise\u001b[39;00m \u001b[39mValueError\u001b[39;00m(\u001b[39m\"\u001b[39m\u001b[39mThis date is invalid\u001b[39m\u001b[39m\"\u001b[39m)\n",
      "\u001b[0;31mValueError\u001b[0m: This date is invalid"
     ]
    }
   ],
   "source": [
    "#Classmethods (decorator)\n",
    "import datetime\n",
    "\n",
    "class date():\n",
    "    def __init__(self, day, month, year) -> None:\n",
    "        if self.valid_date(day, month, year):\n",
    "            self.day = day\n",
    "            self.month = month\n",
    "            self.year = year\n",
    "            print(\"Good date\")\n",
    "        else: \n",
    "            raise ValueError(\"This date is invalid\")\n",
    "\n",
    "    @classmethod\n",
    "    def today_date(cls):\n",
    "        print(\"Let's call the class method\")\n",
    "        today = datetime.date.today()\n",
    "        day = today.day\n",
    "        month = today.month\n",
    "        year = today.year\n",
    "        print(\"I will only call the init method now\")\n",
    "        return cls(day, month, year)\n",
    "    \n",
    "\n",
    "    @staticmethod\n",
    "    def valid_date(day, month, year):\n",
    "        return day<=31 and month <=12 and year<=3000\n",
    "\n",
    "if __name__==\"__main__\":\n",
    "    #classmethod - instantiate the class using the classmethod\n",
    "    current_date = date.today_date()\n",
    "    print(\"\\n\\n\\nBelow will be testing staticmethod \\n\\n\")\n",
    "    #statimethod\n",
    "    good_date = date(2,4,2022)\n",
    "    bad_date = date(2,23,3333)\n"
   ]
  },
  {
   "cell_type": "markdown",
   "metadata": {},
   "source": [
    "Practical test \n",
    "Create a Temperature class\n",
    "\n",
    "1. Create a Temperature class that has a constructor that takes a temperature in Celsius and stores it as an attribute.\n",
    "2. Add a method to convert the temperature of the instance to Fahrenheit\n",
    "3. Add a static method that converts the temperature from Fahrenheit to Celsius\n",
    "4. Add a static method that check if a temperature is valid (i.e. between -273 and +3000)\n",
    "5. Add a class method that creates a new instance of the Temperature class given a temperature in Fahrenheit\n",
    "6. Add a class method named standard that creates a new instance of the Temperature class with a value of 0 Celsius\n",
    "7. Make the temperature attribute a property than can be set, get and deleted\n",
    "8. Use the dataclass decorator to substitute the constructor"
   ]
  },
  {
   "cell_type": "code",
   "execution_count": 28,
   "metadata": {},
   "outputs": [],
   "source": [
    "#docstrings in Google style\n",
    "\n",
    "from dataclasses import dataclass\n",
    "\n",
    "@dataclass(order=True)\n",
    "class temp:\n",
    "    \"\"\"\n",
    "    Used the dataclass decorater to create the constructor\n",
    "    \"\"\"\n",
    "    temperature: int\n",
    "\n",
    "    def convert_to_farenheit(self):\n",
    "        \"\"\" \n",
    "        Function to convert celsius from Farenheit\n",
    "\n",
    "        Returns:\n",
    "            int: an integer which represents the Farenheit temperature\n",
    "        \"\"\"\n",
    "        return self.temp_celsius *(9/5) + 32\n",
    "\n",
    "    @staticmethod\n",
    "    def f_to_c(c):\n",
    "        \"\"\" \n",
    "        Static method which converts farenheit to celsius\n",
    "\n",
    "        Args:\n",
    "            c (int): temperature in celsius\n",
    "\n",
    "        Returns: \n",
    "            int: temperature in farenheit\n",
    "        \"\"\"\n",
    "        return c\n",
    "\n",
    "    @staticmethod\n",
    "    def is_temp_valid(temp):\n",
    "        \"\"\" \n",
    "        Static method which checks if the temp is valid\n",
    "\n",
    "        Args: \n",
    "            temp (int): temperature in Farenheit\n",
    "\n",
    "        Return: \n",
    "            bool: True or raise a ValueError error\n",
    "        \"\"\"\n",
    "        if -273 <= temp <= 3000:\n",
    "            return True\n",
    "        else:\n",
    "            raise ValueError(\"The temperature is not in the proper range\")\n",
    "\n",
    "    @classmethod\n",
    "    def create_instance_in_farenheit(_class, temp, unit):\n",
    "        \"\"\" \n",
    "        Class method which created the instance of the class\n",
    "\n",
    "        Args: \n",
    "            _class (class): temp class\n",
    "            temp (int): temperature\n",
    "            unit (string): F or C\n",
    "\n",
    "        Returns: \n",
    "            class: instance of the class temp\n",
    "        \"\"\"\n",
    "        temp_c = (32 - temp)*(5/9) \n",
    "        return _class(temp_c)\n",
    "\n",
    "    @classmethod\n",
    "    def standard(_class):\n",
    "        \"\"\" \n",
    "        Class method to instantiate the temp class with 0 celsius\n",
    "\n",
    "        Args: \n",
    "            _class (class): temp class\n",
    "\n",
    "        Return:\n",
    "            class: intsance of the class\n",
    "        \"\"\"\n",
    "        return _class(0)\n",
    "\n",
    "    #property decorator are used for getter, setter and deleter-> these are used for encapsulation\n",
    "    @property\n",
    "    def temperature(self):\n",
    "        \"\"\" \n",
    "        Property decorator for getter\n",
    "        \"\"\"\n",
    "        print(\"getting the temp\")\n",
    "        return self._temperature\n",
    "\n",
    "    @temperature.setter\n",
    "    def temperature(self, temp):\n",
    "        \"\"\" \n",
    "        Property decorator for setter\n",
    "        \"\"\"\n",
    "        self._temperature = temp \n",
    "    \n",
    "    @temperature.deleter\n",
    "    def temperature(self):\n",
    "        \"\"\" \n",
    "        Property decorator for deleter\n",
    "        \"\"\"\n",
    "        del self._temperature    "
   ]
  },
  {
   "cell_type": "code",
   "execution_count": 27,
   "metadata": {},
   "outputs": [
    {
     "name": "stdout",
     "output_type": "stream",
     "text": [
      "getting the temp\n"
     ]
    },
    {
     "data": {
      "text/plain": [
       "9"
      ]
     },
     "execution_count": 27,
     "metadata": {},
     "output_type": "execute_result"
    }
   ],
   "source": [
    "temperature = temp(9)\n",
    "temperature.temperature"
   ]
  },
  {
   "cell_type": "code",
   "execution_count": 30,
   "metadata": {},
   "outputs": [
    {
     "name": "stdout",
     "output_type": "stream",
     "text": [
      "Help on method standard in module __main__:\n",
      "\n",
      "standard() method of builtins.type instance\n",
      "    Class method to instantiate the temp class with 0 celsius\n",
      "    \n",
      "    Args: \n",
      "        _class (class): temp class\n",
      "    \n",
      "    Return:\n",
      "        class: intsance of the class\n",
      "\n"
     ]
    }
   ],
   "source": [
    "help(temp.standard)"
   ]
  }
 ],
 "metadata": {
  "kernelspec": {
   "display_name": "Python 3.9.12 64-bit",
   "language": "python",
   "name": "python3"
  },
  "language_info": {
   "codemirror_mode": {
    "name": "ipython",
    "version": 3
   },
   "file_extension": ".py",
   "mimetype": "text/x-python",
   "name": "python",
   "nbconvert_exporter": "python",
   "pygments_lexer": "ipython3",
   "version": "3.9.12"
  },
  "orig_nbformat": 4,
  "vscode": {
   "interpreter": {
    "hash": "aee8b7b246df8f9039afb4144a1f6fd8d2ca17a180786b69acc140d282b71a49"
   }
  }
 },
 "nbformat": 4,
 "nbformat_minor": 2
}
